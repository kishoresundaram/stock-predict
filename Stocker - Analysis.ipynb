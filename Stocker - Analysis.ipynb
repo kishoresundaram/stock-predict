{
 "cells": [
  {
   "cell_type": "markdown",
   "metadata": {},
   "source": [
    "# STOCKER - ANALYSIS"
   ]
  },
  {
   "cell_type": "markdown",
   "metadata": {},
   "source": [
    "#### Importing stocker from PyPI:"
   ]
  },
  {
   "cell_type": "code",
   "execution_count": 1,
   "metadata": {
    "scrolled": true
   },
   "outputs": [
    {
     "name": "stdout",
     "output_type": "stream",
     "text": [
      "Requirement already up-to-date: stocker in c:\\users\\juang\\appdata\\local\\programs\\python\\python37\\lib\\site-packages (0.1.2)\n",
      "Requirement already satisfied, skipping upgrade: matplotlib in c:\\users\\juang\\appdata\\local\\programs\\python\\python37\\lib\\site-packages (from stocker) (3.1.1)\n",
      "Requirement already satisfied, skipping upgrade: requests in c:\\users\\juang\\appdata\\roaming\\python\\python37\\site-packages (from stocker) (2.22.0)\n",
      "Requirement already satisfied, skipping upgrade: pytrends in c:\\users\\juang\\appdata\\local\\programs\\python\\python37\\lib\\site-packages (from stocker) (4.7.2)\n",
      "Requirement already satisfied, skipping upgrade: scikit-learn in c:\\users\\juang\\appdata\\local\\programs\\python\\python37\\lib\\site-packages (from stocker) (0.21.3)\n",
      "Requirement already satisfied, skipping upgrade: pandas in c:\\users\\juang\\appdata\\local\\programs\\python\\python37\\lib\\site-packages (from stocker) (0.25.1)\n",
      "Requirement already satisfied, skipping upgrade: keras in c:\\users\\juang\\appdata\\local\\programs\\python\\python37\\lib\\site-packages (from stocker) (2.3.1)\n",
      "Requirement already satisfied, skipping upgrade: numpy in c:\\users\\juang\\appdata\\local\\programs\\python\\python37\\lib\\site-packages (from stocker) (1.17.0)\n",
      "Requirement already satisfied, skipping upgrade: tensorflow in c:\\users\\juang\\appdata\\local\\programs\\python\\python37\\lib\\site-packages (from stocker) (2.0.0)\n",
      "Requirement already satisfied, skipping upgrade: pyparsing!=2.0.4,!=2.1.2,!=2.1.6,>=2.0.1 in c:\\users\\juang\\appdata\\local\\programs\\python\\python37\\lib\\site-packages (from matplotlib->stocker) (2.4.2)\n",
      "Requirement already satisfied, skipping upgrade: kiwisolver>=1.0.1 in c:\\users\\juang\\appdata\\local\\programs\\python\\python37\\lib\\site-packages (from matplotlib->stocker) (1.1.0)\n",
      "Requirement already satisfied, skipping upgrade: python-dateutil>=2.1 in c:\\users\\juang\\appdata\\local\\programs\\python\\python37\\lib\\site-packages (from matplotlib->stocker) (2.8.0)\n",
      "Requirement already satisfied, skipping upgrade: cycler>=0.10 in c:\\users\\juang\\appdata\\local\\programs\\python\\python37\\lib\\site-packages (from matplotlib->stocker) (0.10.0)\n",
      "Requirement already satisfied, skipping upgrade: chardet<3.1.0,>=3.0.2 in c:\\users\\juang\\appdata\\roaming\\python\\python37\\site-packages (from requests->stocker) (3.0.4)\n",
      "Requirement already satisfied, skipping upgrade: certifi>=2017.4.17 in c:\\users\\juang\\appdata\\roaming\\python\\python37\\site-packages (from requests->stocker) (2019.6.16)\n",
      "Requirement already satisfied, skipping upgrade: idna<2.9,>=2.5 in c:\\users\\juang\\appdata\\roaming\\python\\python37\\site-packages (from requests->stocker) (2.8)\n",
      "Requirement already satisfied, skipping upgrade: urllib3!=1.25.0,!=1.25.1,<1.26,>=1.21.1 in c:\\users\\juang\\appdata\\roaming\\python\\python37\\site-packages (from requests->stocker) (1.25.3)\n",
      "Requirement already satisfied, skipping upgrade: lxml in c:\\users\\juang\\appdata\\local\\programs\\python\\python37\\lib\\site-packages (from pytrends->stocker) (4.4.1)\n",
      "Requirement already satisfied, skipping upgrade: scipy>=0.17.0 in c:\\users\\juang\\appdata\\local\\programs\\python\\python37\\lib\\site-packages (from scikit-learn->stocker) (1.3.1)\n",
      "Requirement already satisfied, skipping upgrade: joblib>=0.11 in c:\\users\\juang\\appdata\\local\\programs\\python\\python37\\lib\\site-packages (from scikit-learn->stocker) (0.14.0)\n",
      "Requirement already satisfied, skipping upgrade: pytz>=2017.2 in c:\\users\\juang\\appdata\\local\\programs\\python\\python37\\lib\\site-packages (from pandas->stocker) (2019.3)\n",
      "Requirement already satisfied, skipping upgrade: six>=1.9.0 in c:\\users\\juang\\appdata\\roaming\\python\\python37\\site-packages (from keras->stocker) (1.12.0)\n",
      "Requirement already satisfied, skipping upgrade: h5py in c:\\users\\juang\\appdata\\local\\programs\\python\\python37\\lib\\site-packages (from keras->stocker) (2.10.0)\n",
      "Requirement already satisfied, skipping upgrade: keras-preprocessing>=1.0.5 in c:\\users\\juang\\appdata\\local\\programs\\python\\python37\\lib\\site-packages (from keras->stocker) (1.1.0)\n",
      "Requirement already satisfied, skipping upgrade: pyyaml in c:\\users\\juang\\appdata\\local\\programs\\python\\python37\\lib\\site-packages (from keras->stocker) (5.1.2)\n",
      "Requirement already satisfied, skipping upgrade: keras-applications>=1.0.6 in c:\\users\\juang\\appdata\\local\\programs\\python\\python37\\lib\\site-packages (from keras->stocker) (1.0.8)\n",
      "Requirement already satisfied, skipping upgrade: grpcio>=1.8.6 in c:\\users\\juang\\appdata\\local\\programs\\python\\python37\\lib\\site-packages (from tensorflow->stocker) (1.24.3)\n",
      "Requirement already satisfied, skipping upgrade: google-pasta>=0.1.6 in c:\\users\\juang\\appdata\\local\\programs\\python\\python37\\lib\\site-packages (from tensorflow->stocker) (0.1.8)\n",
      "Requirement already satisfied, skipping upgrade: absl-py>=0.7.0 in c:\\users\\juang\\appdata\\local\\programs\\python\\python37\\lib\\site-packages (from tensorflow->stocker) (0.8.1)\n",
      "Requirement already satisfied, skipping upgrade: astor>=0.6.0 in c:\\users\\juang\\appdata\\local\\programs\\python\\python37\\lib\\site-packages (from tensorflow->stocker) (0.8.0)\n",
      "Requirement already satisfied, skipping upgrade: wheel>=0.26 in c:\\users\\juang\\appdata\\roaming\\python\\python37\\site-packages (from tensorflow->stocker) (0.33.6)\n",
      "Requirement already satisfied, skipping upgrade: gast==0.2.2 in c:\\users\\juang\\appdata\\local\\programs\\python\\python37\\lib\\site-packages (from tensorflow->stocker) (0.2.2)\n",
      "Requirement already satisfied, skipping upgrade: termcolor>=1.1.0 in c:\\users\\juang\\appdata\\local\\programs\\python\\python37\\lib\\site-packages (from tensorflow->stocker) (1.1.0)\n",
      "Requirement already satisfied, skipping upgrade: wrapt>=1.11.1 in c:\\users\\juang\\appdata\\local\\programs\\python\\python37\\lib\\site-packages (from tensorflow->stocker) (1.11.2)\n",
      "Requirement already satisfied, skipping upgrade: protobuf>=3.6.1 in c:\\users\\juang\\appdata\\local\\programs\\python\\python37\\lib\\site-packages (from tensorflow->stocker) (3.10.0)\n",
      "Requirement already satisfied, skipping upgrade: tensorflow-estimator<2.1.0,>=2.0.0 in c:\\users\\juang\\appdata\\local\\programs\\python\\python37\\lib\\site-packages (from tensorflow->stocker) (2.0.1)\n",
      "Requirement already satisfied, skipping upgrade: tensorboard<2.1.0,>=2.0.0 in c:\\users\\juang\\appdata\\local\\programs\\python\\python37\\lib\\site-packages (from tensorflow->stocker) (2.0.1)\n",
      "Requirement already satisfied, skipping upgrade: opt-einsum>=2.3.2 in c:\\users\\juang\\appdata\\local\\programs\\python\\python37\\lib\\site-packages (from tensorflow->stocker) (3.1.0)\n",
      "Requirement already satisfied, skipping upgrade: setuptools in c:\\users\\juang\\appdata\\roaming\\python\\python37\\site-packages (from kiwisolver>=1.0.1->matplotlib->stocker) (41.6.0)\n",
      "Requirement already satisfied, skipping upgrade: markdown>=2.6.8 in c:\\users\\juang\\appdata\\local\\programs\\python\\python37\\lib\\site-packages (from tensorboard<2.1.0,>=2.0.0->tensorflow->stocker) (3.1.1)\n",
      "Requirement already satisfied, skipping upgrade: google-auth-oauthlib<0.5,>=0.4.1 in c:\\users\\juang\\appdata\\local\\programs\\python\\python37\\lib\\site-packages (from tensorboard<2.1.0,>=2.0.0->tensorflow->stocker) (0.4.1)\n",
      "Requirement already satisfied, skipping upgrade: google-auth<2,>=1.6.3 in c:\\users\\juang\\appdata\\local\\programs\\python\\python37\\lib\\site-packages (from tensorboard<2.1.0,>=2.0.0->tensorflow->stocker) (1.7.0)\n",
      "Requirement already satisfied, skipping upgrade: werkzeug>=0.11.15 in c:\\users\\juang\\appdata\\local\\programs\\python\\python37\\lib\\site-packages (from tensorboard<2.1.0,>=2.0.0->tensorflow->stocker) (0.16.0)\n",
      "Requirement already satisfied, skipping upgrade: requests-oauthlib>=0.7.0 in c:\\users\\juang\\appdata\\local\\programs\\python\\python37\\lib\\site-packages (from google-auth-oauthlib<0.5,>=0.4.1->tensorboard<2.1.0,>=2.0.0->tensorflow->stocker) (1.2.0)\n",
      "Requirement already satisfied, skipping upgrade: rsa<4.1,>=3.1.4 in c:\\users\\juang\\appdata\\local\\programs\\python\\python37\\lib\\site-packages (from google-auth<2,>=1.6.3->tensorboard<2.1.0,>=2.0.0->tensorflow->stocker) (4.0)\n",
      "Requirement already satisfied, skipping upgrade: cachetools<3.2,>=2.0.0 in c:\\users\\juang\\appdata\\local\\programs\\python\\python37\\lib\\site-packages (from google-auth<2,>=1.6.3->tensorboard<2.1.0,>=2.0.0->tensorflow->stocker) (3.1.1)\n",
      "Requirement already satisfied, skipping upgrade: pyasn1-modules>=0.2.1 in c:\\users\\juang\\appdata\\local\\programs\\python\\python37\\lib\\site-packages (from google-auth<2,>=1.6.3->tensorboard<2.1.0,>=2.0.0->tensorflow->stocker) (0.2.7)\n",
      "Requirement already satisfied, skipping upgrade: oauthlib>=3.0.0 in c:\\users\\juang\\appdata\\local\\programs\\python\\python37\\lib\\site-packages (from requests-oauthlib>=0.7.0->google-auth-oauthlib<0.5,>=0.4.1->tensorboard<2.1.0,>=2.0.0->tensorflow->stocker) (3.1.0)\n",
      "Requirement already satisfied, skipping upgrade: pyasn1>=0.1.3 in c:\\users\\juang\\appdata\\local\\programs\\python\\python37\\lib\\site-packages (from rsa<4.1,>=3.1.4->google-auth<2,>=1.6.3->tensorboard<2.1.0,>=2.0.0->tensorflow->stocker) (0.4.7)\n"
     ]
    },
    {
     "name": "stderr",
     "output_type": "stream",
     "text": [
      "WARNING: You are using pip version 19.2.2, however version 19.3.1 is available.\n",
      "You should consider upgrading via the 'python -m pip install --upgrade pip' command.\n"
     ]
    }
   ],
   "source": [
    "import sys\n",
    "!{sys.executable} -m pip install --upgrade stocker"
   ]
  },
  {
   "cell_type": "markdown",
   "metadata": {},
   "source": [
    "#### Importing the function tomorrow:"
   ]
  },
  {
   "cell_type": "code",
   "execution_count": 2,
   "metadata": {},
   "outputs": [
    {
     "name": "stderr",
     "output_type": "stream",
     "text": [
      "Using TensorFlow backend.\n"
     ]
    }
   ],
   "source": [
    "from stocker.predict import tomorrow"
   ]
  },
  {
   "cell_type": "markdown",
   "metadata": {},
   "source": [
    "#### Defining the stock for the analysis:"
   ]
  },
  {
   "cell_type": "code",
   "execution_count": 3,
   "metadata": {},
   "outputs": [],
   "source": [
    "stock = 'GOOGL'"
   ]
  },
  {
   "cell_type": "markdown",
   "metadata": {},
   "source": [
    "#### Let's check the difference by using different time periods of data:"
   ]
  },
  {
   "cell_type": "code",
   "execution_count": 4,
   "metadata": {},
   "outputs": [
    {
     "name": "stdout",
     "output_type": "stream",
     "text": [
      "Error by using 1 year of data: 0.746 %\n",
      "Error by using 2 years of data: 0.875 %\n",
      "Error by using 3 years of data: 1.011 %\n"
     ]
    }
   ],
   "source": [
    "error1 = tomorrow(stock, years=1)[1]\n",
    "error2 = tomorrow(stock, years=2)[1]\n",
    "error3 = tomorrow(stock, years=3)[1]\n",
    "print('Error by using 1 year of data:',error1,'%')\n",
    "print('Error by using 2 years of data:',error2,'%')\n",
    "print('Error by using 3 years of data:',error3,'%')"
   ]
  },
  {
   "cell_type": "markdown",
   "metadata": {},
   "source": [
    "#### Apparently it is better to use only the data from the last year. This could be because of the understanding of the model, if only the most recent behavior is involved into the model thus it can make a better prediction."
   ]
  },
  {
   "cell_type": "markdown",
   "metadata": {},
   "source": [
    "#### Now let's check the difference by using different amount of days for the input steps:"
   ]
  },
  {
   "cell_type": "code",
   "execution_count": 5,
   "metadata": {},
   "outputs": [
    {
     "name": "stdout",
     "output_type": "stream",
     "text": [
      "Error by using 1 previous day of data: 0.757 %\n",
      "Error by using 10 previous days of data: 4.727 %\n",
      "Error by using 20 previous days of data: 7.777 %\n"
     ]
    }
   ],
   "source": [
    "error1 = tomorrow(stock, steps=1)[1]\n",
    "error2 = tomorrow(stock, steps=10)[1]\n",
    "error3 = tomorrow(stock, steps=20)[1]\n",
    "print('Error by using 1 previous day of data:',error1,'%')\n",
    "print('Error by using 10 previous days of data:',error2,'%')\n",
    "print('Error by using 20 previous days of data:',error3,'%')"
   ]
  },
  {
   "cell_type": "markdown",
   "metadata": {},
   "source": [
    "#### Again, checking the most recent data is the best option. This doesn't mean that the model is not taking into account the whole behavior during the entire period of time."
   ]
  },
  {
   "cell_type": "markdown",
   "metadata": {},
   "source": [
    "Now let's check the difference by using different features:"
   ]
  },
  {
   "cell_type": "code",
   "execution_count": 6,
   "metadata": {},
   "outputs": [
    {
     "name": "stdout",
     "output_type": "stream",
     "text": [
      "Error by including Open prices: 0.838 %\n",
      "Error by including Low prices: 0.763 %\n",
      "Error by including High prices: 0.814 %\n",
      "Error by including Volume: 0.682 %\n",
      "Error by including Adj Close prices: 0.757 %\n",
      "Error by including Interest: 1.081 %\n",
      "Error by including Wiki_views: 0.758 %\n",
      "Error by including indicators: 0.74 %\n",
      "Error by including only Close prices: 0.76 %\n",
      "Error by including all the features: 0.723 %\n",
      "Error by including the features from Yahoo Finance: 0.811 %\n"
     ]
    }
   ],
   "source": [
    "error1 = tomorrow(stock, features=['Open'])[1]\n",
    "error2 = tomorrow(stock, features=['Low'])[1]\n",
    "error3 = tomorrow(stock, features=['High'])[1]\n",
    "error4 = tomorrow(stock, features=['Volume'])[1]\n",
    "error5 = tomorrow(stock, features=['Adj Close'])[1]\n",
    "error6 = tomorrow(stock, features=['Interest'])[1]\n",
    "error7 = tomorrow(stock, features=['Wiki_views'])[1]\n",
    "error8 = tomorrow(stock, features=['RSI','%K','%R'])[1]\n",
    "error9 = tomorrow(stock)[1]\n",
    "error10 = tomorrow(stock, features=['Open','Low','High','Volume','Adj Close','Interest','Wiki_views','RSI','%K','%R'])[1]\n",
    "error11 = tomorrow(stock, features=['Open','Low','High','Volume','Adj Close'])[1]\n",
    "print('Error by including Open prices:',error1,'%')\n",
    "print('Error by including Low prices:',error2,'%')\n",
    "print('Error by including High prices:',error3,'%')\n",
    "print('Error by including Volume:',error4,'%')\n",
    "print('Error by including Adj Close prices:',error5,'%')\n",
    "print('Error by including Interest:',error6,'%')\n",
    "print('Error by including Wiki_views:',error7,'%')\n",
    "print('Error by including indicators:',error8,'%')\n",
    "print('Error by including only Close prices:',error9,'%')\n",
    "print('Error by including all the features:',error10,'%')\n",
    "print('Error by including the features from Yahoo Finance:',error11,'%')"
   ]
  },
  {
   "cell_type": "markdown",
   "metadata": {},
   "source": [
    "**Using only the previous *Close prices* shows a similar error than using more features, so it is a good option to save time while running the code. However, it is recommended to implement several cases with different features and choose the case with the lowest error.**"
   ]
  },
  {
   "cell_type": "markdown",
   "metadata": {},
   "source": [
    "**Finally let's check the Pearson correlation coefficient for each feature against the *Close prices*:**"
   ]
  },
  {
   "cell_type": "code",
   "execution_count": 7,
   "metadata": {},
   "outputs": [],
   "source": [
    "from stocker.get_data import correlation"
   ]
  },
  {
   "cell_type": "code",
   "execution_count": 8,
   "metadata": {},
   "outputs": [
    {
     "data": {
      "text/plain": [
       "High          0.991673\n",
       "Low           0.992298\n",
       "Open          0.980375\n",
       "Close         1.000000\n",
       "Volume       -0.193335\n",
       "Adj Close     1.000000\n",
       "Interest     -0.478602\n",
       "Wiki_views    0.133284\n",
       "%K            0.402858\n",
       "%R            0.402858\n",
       "RSI           0.511400\n",
       "Name: Close, dtype: float64"
      ]
     },
     "execution_count": 8,
     "metadata": {},
     "output_type": "execute_result"
    }
   ],
   "source": [
    "correlation(stock, interest=True, wiki_views=True, indicators=True)"
   ]
  },
  {
   "cell_type": "markdown",
   "metadata": {},
   "source": []
  }
 ],
 "metadata": {
  "kernelspec": {
   "display_name": "Python 3",
   "language": "python",
   "name": "python3"
  },
  "language_info": {
   "codemirror_mode": {
    "name": "ipython",
    "version": 3
   },
   "file_extension": ".py",
   "mimetype": "text/x-python",
   "name": "python",
   "nbconvert_exporter": "python",
   "pygments_lexer": "ipython3",
   "version": "3.7.4"
  }
 },
 "nbformat": 4,
 "nbformat_minor": 2
}
